{
 "cells": [
  {
   "cell_type": "code",
   "execution_count": 1,
   "id": "87b02d6d",
   "metadata": {},
   "outputs": [],
   "source": [
    "!pip install --upgrade --quiet  langchain langchain-community langchain-groq neo4j"
   ]
  },
  {
   "cell_type": "code",
   "execution_count": null,
   "id": "bede7af4",
   "metadata": {},
   "outputs": [],
   "source": [
    "## Graphdb configuration\n",
    "NEO4J_URI=\"\"\n",
    "NEO4J_USERNAME=\"neo4j\"\n",
    "NEO4J_PASSWORD=\"\""
   ]
  },
  {
   "cell_type": "code",
   "execution_count": 3,
   "id": "5a05025c",
   "metadata": {},
   "outputs": [],
   "source": [
    "import os\n",
    "os.environ[\"NEO4J_URI\"] = NEO4J_URI\n",
    "os.environ[\"NEO4J_USERNAME\"] = NEO4J_USERNAME\n",
    "os.environ[\"NEO4J_PASSWORD\"] = NEO4J_PASSWORD\n"
   ]
  },
  {
   "cell_type": "code",
   "execution_count": 4,
   "id": "d0ba9910",
   "metadata": {},
   "outputs": [
    {
     "name": "stderr",
     "output_type": "stream",
     "text": [
      "/var/folders/r4/0zn0v6v976x3dw4pxw4_tm200000gn/T/ipykernel_2712/873234247.py:2: LangChainDeprecationWarning: The class `Neo4jGraph` was deprecated in LangChain 0.3.8 and will be removed in 1.0. An updated version of the class exists in the :class:`~langchain-neo4j package and should be used instead. To use it run `pip install -U :class:`~langchain-neo4j` and import as `from :class:`~langchain_neo4j import Neo4jGraph``.\n",
      "  graph= Neo4jGraph(\n"
     ]
    }
   ],
   "source": [
    "from langchain_community.graphs import Neo4jGraph\n",
    "graph= Neo4jGraph(\n",
    "    url=NEO4J_URI,\n",
    "    username=NEO4J_USERNAME,\n",
    "    password=NEO4J_PASSWORD)"
   ]
  },
  {
   "cell_type": "code",
   "execution_count": 5,
   "id": "aff2e148",
   "metadata": {},
   "outputs": [
    {
     "data": {
      "text/plain": [
       "<langchain_community.graphs.neo4j_graph.Neo4jGraph at 0x10620c280>"
      ]
     },
     "execution_count": 5,
     "metadata": {},
     "output_type": "execute_result"
    }
   ],
   "source": [
    "graph"
   ]
  },
  {
   "cell_type": "code",
   "execution_count": null,
   "id": "92c7bce1",
   "metadata": {},
   "outputs": [],
   "source": [
    "groq_api_key=\"\""
   ]
  },
  {
   "cell_type": "code",
   "execution_count": 7,
   "id": "89dc7d4f",
   "metadata": {},
   "outputs": [
    {
     "data": {
      "text/plain": [
       "ChatGroq(client=<groq.resources.chat.completions.Completions object at 0x14fa482b0>, async_client=<groq.resources.chat.completions.AsyncCompletions object at 0x14fa48e50>, model_name='Gemma2-9b-It', model_kwargs={}, groq_api_key=SecretStr('**********'))"
      ]
     },
     "execution_count": 7,
     "metadata": {},
     "output_type": "execute_result"
    }
   ],
   "source": [
    "from langchain_groq import ChatGroq\n",
    "llm=ChatGroq(groq_api_key=groq_api_key,model_name=\"Gemma2-9b-It\")\n",
    "llm"
   ]
  },
  {
   "cell_type": "code",
   "execution_count": 8,
   "id": "60c6926e",
   "metadata": {},
   "outputs": [
    {
     "data": {
      "text/plain": [
       "[Document(metadata={}, page_content=\"\\nElon Reeve Musk (born June 28, 1971) is a businessman and investor known for his key roles in space\\ncompany SpaceX and automotive company Tesla, Inc. Other involvements include ownership of X Corp.,\\nformerly Twitter, and his role in the founding of The Boring Company, xAI, Neuralink and OpenAI.\\nHe is one of the wealthiest people in the world; as of July 2024, Forbes estimates his net worth to be\\nUS$221 billion.Musk was born in Pretoria to Maye and engineer Errol Musk, and briefly attended\\nthe University of Pretoria before immigrating to Canada at age 18, acquiring citizenship through\\nhis Canadian-born mother. Two years later, he matriculated at Queen's University at Kingston in Canada.\\nMusk later transferred to the University of Pennsylvania and received bachelor's degrees in economics\\n and physics. He moved to California in 1995 to attend Stanford University, but dropped out after\\n  two days and, with his brother Kimbal, co-founded online city guide software company Zip2.\\n \")]"
      ]
     },
     "execution_count": 8,
     "metadata": {},
     "output_type": "execute_result"
    }
   ],
   "source": [
    "from langchain_core.documents import Document\n",
    "text=\"\"\"\n",
    "Elon Reeve Musk (born June 28, 1971) is a businessman and investor known for his key roles in space\n",
    "company SpaceX and automotive company Tesla, Inc. Other involvements include ownership of X Corp.,\n",
    "formerly Twitter, and his role in the founding of The Boring Company, xAI, Neuralink and OpenAI.\n",
    "He is one of the wealthiest people in the world; as of July 2024, Forbes estimates his net worth to be\n",
    "US$221 billion.Musk was born in Pretoria to Maye and engineer Errol Musk, and briefly attended\n",
    "the University of Pretoria before immigrating to Canada at age 18, acquiring citizenship through\n",
    "his Canadian-born mother. Two years later, he matriculated at Queen's University at Kingston in Canada.\n",
    "Musk later transferred to the University of Pennsylvania and received bachelor's degrees in economics\n",
    " and physics. He moved to California in 1995 to attend Stanford University, but dropped out after\n",
    "  two days and, with his brother Kimbal, co-founded online city guide software company Zip2.\n",
    " \"\"\"\n",
    "documents=[Document(page_content=text)]\n",
    "documents\n"
   ]
  },
  {
   "cell_type": "code",
   "execution_count": 9,
   "id": "ae1e6f14",
   "metadata": {},
   "outputs": [],
   "source": [
    "!pip install --upgrade --quiet langchain_experimental"
   ]
  },
  {
   "cell_type": "code",
   "execution_count": 10,
   "id": "135c32fd",
   "metadata": {},
   "outputs": [],
   "source": [
    "#whatever document you have, you can use the graph transformer to create a graph\n",
    "from langchain_experimental.graph_transformers import LLMGraphTransformer\n",
    "graph_transformer = LLMGraphTransformer(\n",
    "    llm=llm\n",
    ")\n"
   ]
  },
  {
   "cell_type": "code",
   "execution_count": 11,
   "id": "88b9c81e",
   "metadata": {},
   "outputs": [],
   "source": [
    "graph_documents=graph_transformer.convert_to_graph_documents(documents)"
   ]
  },
  {
   "cell_type": "code",
   "execution_count": 12,
   "id": "dd9ad02f",
   "metadata": {},
   "outputs": [
    {
     "data": {
      "text/plain": [
       "[GraphDocument(nodes=[Node(id='Elon Reeve Musk', type='Person', properties={}), Node(id='Spacex', type='Company', properties={}), Node(id='Tesla, Inc.', type='Company', properties={}), Node(id='X Corp.', type='Company', properties={}), Node(id='The Boring Company', type='Company', properties={}), Node(id='Xai', type='Company', properties={}), Node(id='Neuralink', type='Company', properties={}), Node(id='Openai', type='Company', properties={}), Node(id='Forbes', type='Organization', properties={}), Node(id='University Of Pretoria', type='University', properties={}), Node(id=\"Queen'S University, Kingston\", type='University', properties={}), Node(id='University Of Pennsylvania', type='University', properties={}), Node(id='Stanford University', type='University', properties={}), Node(id='Zip2', type='Company', properties={})], relationships=[Relationship(source=Node(id='Elon Reeve Musk', type='Person', properties={}), target=Node(id='Spacex', type='Company', properties={}), type='FOUNDER', properties={}), Relationship(source=Node(id='Elon Reeve Musk', type='Person', properties={}), target=Node(id='Tesla, Inc.', type='Company', properties={}), type='FOUNDER', properties={}), Relationship(source=Node(id='Elon Reeve Musk', type='Person', properties={}), target=Node(id='X Corp.', type='Company', properties={}), type='OWNER', properties={}), Relationship(source=Node(id='Elon Reeve Musk', type='Person', properties={}), target=Node(id='The Boring Company', type='Company', properties={}), type='FOUNDER', properties={}), Relationship(source=Node(id='Elon Reeve Musk', type='Person', properties={}), target=Node(id='Xai', type='Company', properties={}), type='FOUNDER', properties={}), Relationship(source=Node(id='Elon Reeve Musk', type='Person', properties={}), target=Node(id='Neuralink', type='Company', properties={}), type='FOUNDER', properties={}), Relationship(source=Node(id='Elon Reeve Musk', type='Person', properties={}), target=Node(id='Openai', type='Company', properties={}), type='FOUNDER', properties={})], source=Document(metadata={}, page_content=\"\\nElon Reeve Musk (born June 28, 1971) is a businessman and investor known for his key roles in space\\ncompany SpaceX and automotive company Tesla, Inc. Other involvements include ownership of X Corp.,\\nformerly Twitter, and his role in the founding of The Boring Company, xAI, Neuralink and OpenAI.\\nHe is one of the wealthiest people in the world; as of July 2024, Forbes estimates his net worth to be\\nUS$221 billion.Musk was born in Pretoria to Maye and engineer Errol Musk, and briefly attended\\nthe University of Pretoria before immigrating to Canada at age 18, acquiring citizenship through\\nhis Canadian-born mother. Two years later, he matriculated at Queen's University at Kingston in Canada.\\nMusk later transferred to the University of Pennsylvania and received bachelor's degrees in economics\\n and physics. He moved to California in 1995 to attend Stanford University, but dropped out after\\n  two days and, with his brother Kimbal, co-founded online city guide software company Zip2.\\n \"))]"
      ]
     },
     "execution_count": 12,
     "metadata": {},
     "output_type": "execute_result"
    }
   ],
   "source": [
    "graph_documents"
   ]
  },
  {
   "cell_type": "code",
   "execution_count": 13,
   "id": "e456e2c1",
   "metadata": {},
   "outputs": [
    {
     "data": {
      "text/plain": [
       "[Node(id='Elon Reeve Musk', type='Person', properties={}),\n",
       " Node(id='Spacex', type='Company', properties={}),\n",
       " Node(id='Tesla, Inc.', type='Company', properties={}),\n",
       " Node(id='X Corp.', type='Company', properties={}),\n",
       " Node(id='The Boring Company', type='Company', properties={}),\n",
       " Node(id='Xai', type='Company', properties={}),\n",
       " Node(id='Neuralink', type='Company', properties={}),\n",
       " Node(id='Openai', type='Company', properties={}),\n",
       " Node(id='Forbes', type='Organization', properties={}),\n",
       " Node(id='University Of Pretoria', type='University', properties={}),\n",
       " Node(id=\"Queen'S University, Kingston\", type='University', properties={}),\n",
       " Node(id='University Of Pennsylvania', type='University', properties={}),\n",
       " Node(id='Stanford University', type='University', properties={}),\n",
       " Node(id='Zip2', type='Company', properties={})]"
      ]
     },
     "execution_count": 13,
     "metadata": {},
     "output_type": "execute_result"
    }
   ],
   "source": [
    "graph_documents[0].nodes"
   ]
  },
  {
   "cell_type": "code",
   "execution_count": 14,
   "id": "5f907958",
   "metadata": {},
   "outputs": [
    {
     "data": {
      "text/plain": [
       "[Relationship(source=Node(id='Elon Reeve Musk', type='Person', properties={}), target=Node(id='Spacex', type='Company', properties={}), type='FOUNDER', properties={}),\n",
       " Relationship(source=Node(id='Elon Reeve Musk', type='Person', properties={}), target=Node(id='Tesla, Inc.', type='Company', properties={}), type='FOUNDER', properties={}),\n",
       " Relationship(source=Node(id='Elon Reeve Musk', type='Person', properties={}), target=Node(id='X Corp.', type='Company', properties={}), type='OWNER', properties={}),\n",
       " Relationship(source=Node(id='Elon Reeve Musk', type='Person', properties={}), target=Node(id='The Boring Company', type='Company', properties={}), type='FOUNDER', properties={}),\n",
       " Relationship(source=Node(id='Elon Reeve Musk', type='Person', properties={}), target=Node(id='Xai', type='Company', properties={}), type='FOUNDER', properties={}),\n",
       " Relationship(source=Node(id='Elon Reeve Musk', type='Person', properties={}), target=Node(id='Neuralink', type='Company', properties={}), type='FOUNDER', properties={}),\n",
       " Relationship(source=Node(id='Elon Reeve Musk', type='Person', properties={}), target=Node(id='Openai', type='Company', properties={}), type='FOUNDER', properties={})]"
      ]
     },
     "execution_count": 14,
     "metadata": {},
     "output_type": "execute_result"
    }
   ],
   "source": [
    "graph_documents[0].relationships"
   ]
  },
  {
   "cell_type": "code",
   "execution_count": 15,
   "id": "ad35f455",
   "metadata": {},
   "outputs": [],
   "source": [
    "#load the dataset of movies\n",
    "\n",
    "movie_query=\"\"\"\n",
    "LOAD CSV WITH HEADERS FROM\n",
    "'https://raw.githubusercontent.com/tomasonjo/blog-datasets/main/movies/movies_small.csv' as row\n",
    "\n",
    "MERGE(m:Movie{id:row.movieId})\n",
    "SET m.released = date(row.released),\n",
    "    m.title = row.title,\n",
    "    m.imdbRating = toFloat(row.imdbRating)\n",
    "FOREACH (director in split(row.director, '|') | \n",
    "    MERGE (p:Person {name:trim(director)})\n",
    "    MERGE (p)-[:DIRECTED]->(m))\n",
    "FOREACH (actor in split(row.actors, '|') |\n",
    "    MERGE (p:Person {name:trim(actor)})\n",
    "    MERGE (p)-[:ACTED_IN]->(m))\n",
    "FOREACH (genre in split(row.genres, '|') |\n",
    "    MERGE (g:Genre {name:trim(genre)})\n",
    "    MERGE (m)-[:IN_GENRE]->(g))\n",
    "\"\"\"\n",
    "\n",
    "#for each command in cypher query,for each label, we create a node"
   ]
  },
  {
   "cell_type": "code",
   "execution_count": 16,
   "id": "7d1ed8de",
   "metadata": {},
   "outputs": [
    {
     "data": {
      "text/plain": [
       "<langchain_community.graphs.neo4j_graph.Neo4jGraph at 0x10620c280>"
      ]
     },
     "execution_count": 16,
     "metadata": {},
     "output_type": "execute_result"
    }
   ],
   "source": [
    "graph"
   ]
  },
  {
   "cell_type": "code",
   "execution_count": 17,
   "id": "05079d36",
   "metadata": {},
   "outputs": [
    {
     "data": {
      "text/plain": [
       "[]"
      ]
     },
     "execution_count": 17,
     "metadata": {},
     "output_type": "execute_result"
    }
   ],
   "source": [
    "graph.query(movie_query)"
   ]
  },
  {
   "cell_type": "code",
   "execution_count": 18,
   "id": "0c43ad85",
   "metadata": {},
   "outputs": [],
   "source": [
    "graph.refresh_schema()"
   ]
  },
  {
   "cell_type": "code",
   "execution_count": 19,
   "id": "68351680",
   "metadata": {},
   "outputs": [
    {
     "name": "stdout",
     "output_type": "stream",
     "text": [
      "Node properties:\n",
      "Person {born: INTEGER, name: STRING}\n",
      "Movie {title: STRING, released: INTEGER, id: STRING, imdbRating: FLOAT}\n",
      "Genre {name: STRING}\n",
      "Relationship properties:\n",
      "\n",
      "The relationships:\n",
      "(:Person)-[:ACTED_IN]->(:Movie)\n",
      "(:Person)-[:DIRECTED]->(:Movie)\n",
      "(:Movie)-[:IN_GENRE]->(:Genre)\n"
     ]
    }
   ],
   "source": [
    "print(graph.schema)"
   ]
  },
  {
   "cell_type": "code",
   "execution_count": 20,
   "id": "0b3a9a58",
   "metadata": {},
   "outputs": [],
   "source": [
    "from langchain.chains import GraphCypherQAChain\n",
    "chain=GraphCypherQAChain.from_llm(\n",
    "    llm=llm,\n",
    "    graph=graph,\n",
    "    verbose=True,\n",
    "    allow_dangerous_requests=True,  # Set to True to allow dangerous requests\n",
    ")"
   ]
  },
  {
   "cell_type": "code",
   "execution_count": 21,
   "id": "2b11344a",
   "metadata": {},
   "outputs": [
    {
     "name": "stdout",
     "output_type": "stream",
     "text": [
      "\n",
      "\n",
      "\u001b[1m> Entering new GraphCypherQAChain chain...\u001b[0m\n",
      "Generated Cypher:\n",
      "\u001b[32;1m\u001b[1;3mMATCH (m:Movie {title: \"GoldenEye\"})<-[:DIRECTED]-(p:Person) RETURN p.name  \n",
      "\u001b[0m\n",
      "Full Context:\n",
      "\u001b[32;1m\u001b[1;3m[{'p.name': 'Martin Campbell'}]\u001b[0m\n",
      "\n",
      "\u001b[1m> Finished chain.\u001b[0m\n"
     ]
    },
    {
     "data": {
      "text/plain": [
       "{'query': 'Who was the director of the moview GoldenEye',\n",
       " 'result': 'Martin Campbell  \\n'}"
      ]
     },
     "execution_count": 21,
     "metadata": {},
     "output_type": "execute_result"
    }
   ],
   "source": [
    "response=chain.invoke({\"query\":\"Who was the director of the moview GoldenEye\"})\n",
    "\n",
    "response\n"
   ]
  },
  {
   "cell_type": "code",
   "execution_count": 23,
   "id": "64abcfef",
   "metadata": {},
   "outputs": [
    {
     "name": "stdout",
     "output_type": "stream",
     "text": [
      "\n",
      "\n",
      "\u001b[1m> Entering new GraphCypherQAChain chain...\u001b[0m\n",
      "Generated Cypher:\n",
      "\u001b[32;1m\u001b[1;3mMATCH (m:Movie {title: \"Casino\"})<-[:DIRECTED]-(p:Person) RETURN p.name\n",
      "\u001b[0m\n",
      "Full Context:\n",
      "\u001b[32;1m\u001b[1;3m[{'p.name': 'Martin Scorsese'}]\u001b[0m\n",
      "\n",
      "\u001b[1m> Finished chain.\u001b[0m\n"
     ]
    },
    {
     "data": {
      "text/plain": [
       "{'query': 'Who was the director in movie Casino',\n",
       " 'result': 'Martin Scorsese  \\n'}"
      ]
     },
     "execution_count": 23,
     "metadata": {},
     "output_type": "execute_result"
    }
   ],
   "source": [
    "response=chain.invoke({\"query\":\"Who was the director in movie Casino\"})\n",
    "\n",
    "response"
   ]
  },
  {
   "cell_type": "code",
   "execution_count": 24,
   "id": "751dbb4d",
   "metadata": {},
   "outputs": [
    {
     "name": "stdout",
     "output_type": "stream",
     "text": [
      "\n",
      "\n",
      "\u001b[1m> Entering new GraphCypherQAChain chain...\u001b[0m\n",
      "Generated Cypher:\n",
      "\u001b[32;1m\u001b[1;3mMATCH (m:Movie) WHERE m.imdbRating > 8 RETURN m.title\n",
      "\u001b[0m\n",
      "Full Context:\n",
      "\u001b[32;1m\u001b[1;3m[{'m.title': 'Toy Story'}, {'m.title': 'Heat'}, {'m.title': 'Casino'}, {'m.title': 'Twelve Monkeys (a.k.a. 12 Monkeys)'}, {'m.title': 'Seven (a.k.a. Se7en)'}, {'m.title': 'Usual Suspects, The'}, {'m.title': 'Hate (Haine, La)'}, {'m.title': 'Braveheart'}, {'m.title': 'Taxi Driver'}, {'m.title': 'Anne Frank Remembered'}]\u001b[0m\n",
      "\n",
      "\u001b[1m> Finished chain.\u001b[0m\n"
     ]
    },
    {
     "data": {
      "text/plain": [
       "{'query': 'Give me the list of movie having imdb rating more than 8',\n",
       " 'result': \"I don't know the answer. \\n\"}"
      ]
     },
     "execution_count": 24,
     "metadata": {},
     "output_type": "execute_result"
    }
   ],
   "source": [
    "response=chain.invoke({\"query\":\"Give me the list of movie having imdb rating more than 8\"})\n",
    "response"
   ]
  },
  {
   "cell_type": "code",
   "execution_count": null,
   "id": "c60536f9",
   "metadata": {},
   "outputs": [],
   "source": []
  }
 ],
 "metadata": {
  "kernelspec": {
   "display_name": "LLM_Projects",
   "language": "python",
   "name": "python3"
  },
  "language_info": {
   "codemirror_mode": {
    "name": "ipython",
    "version": 3
   },
   "file_extension": ".py",
   "mimetype": "text/x-python",
   "name": "python",
   "nbconvert_exporter": "python",
   "pygments_lexer": "ipython3",
   "version": "3.9.21"
  }
 },
 "nbformat": 4,
 "nbformat_minor": 5
}
